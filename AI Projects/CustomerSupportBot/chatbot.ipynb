{
 "cells": [
  {
   "cell_type": "markdown",
   "metadata": {},
   "source": [
    "Import Tools"
   ]
  },
  {
   "cell_type": "code",
   "execution_count": 1,
   "metadata": {},
   "outputs": [],
   "source": [
    "import pandas as pd\n",
    "from transformers import T5Tokenizer, T5ForConditionalGeneration, TrainingArguments, Trainer\n",
    "import torch\n"
   ]
  },
  {
   "cell_type": "code",
   "execution_count": 11,
   "metadata": {},
   "outputs": [
    {
     "name": "stdout",
     "output_type": "stream",
     "text": [
      "Using device : mps\n"
     ]
    }
   ],
   "source": [
    "if torch.backends.mps.is_available():\n",
    "    device = torch.device(\"mps\")\n",
    "else:\n",
    "    device = \"cpu\"\n",
    "print(f\"Using device : {device}\")\n"
   ]
  },
  {
   "cell_type": "markdown",
   "metadata": {},
   "source": [
    "Load Datasets"
   ]
  },
  {
   "cell_type": "code",
   "execution_count": 3,
   "metadata": {},
   "outputs": [
    {
     "data": {
      "text/html": [
       "<div>\n",
       "<style scoped>\n",
       "    .dataframe tbody tr th:only-of-type {\n",
       "        vertical-align: middle;\n",
       "    }\n",
       "\n",
       "    .dataframe tbody tr th {\n",
       "        vertical-align: top;\n",
       "    }\n",
       "\n",
       "    .dataframe thead th {\n",
       "        text-align: right;\n",
       "    }\n",
       "</style>\n",
       "<table border=\"1\" class=\"dataframe\">\n",
       "  <thead>\n",
       "    <tr style=\"text-align: right;\">\n",
       "      <th></th>\n",
       "      <th>query</th>\n",
       "      <th>response</th>\n",
       "      <th>intent</th>\n",
       "      <th>domain</th>\n",
       "    </tr>\n",
       "  </thead>\n",
       "  <tbody>\n",
       "    <tr>\n",
       "      <th>0</th>\n",
       "      <td>What are the side effects of the COVID-19 vacc...</td>\n",
       "      <td>Common side effects of the COVID-19 vaccine in...</td>\n",
       "      <td>side effects inquiry</td>\n",
       "      <td>healthcare</td>\n",
       "    </tr>\n",
       "    <tr>\n",
       "      <th>1</th>\n",
       "      <td>How can I schedule an appointment with my doctor?</td>\n",
       "      <td>You can schedule an appointment by calling our...</td>\n",
       "      <td>appointment booking</td>\n",
       "      <td>healthcare</td>\n",
       "    </tr>\n",
       "    <tr>\n",
       "      <th>2</th>\n",
       "      <td>What should I do if I miss a dose of my medica...</td>\n",
       "      <td>If you miss a dose, take it as soon as you rem...</td>\n",
       "      <td>medication inquiry</td>\n",
       "      <td>healthcare</td>\n",
       "    </tr>\n",
       "    <tr>\n",
       "      <th>3</th>\n",
       "      <td>How can I check my account balance?</td>\n",
       "      <td>You can check your balance by logging into you...</td>\n",
       "      <td>balance inquiry</td>\n",
       "      <td>finance</td>\n",
       "    </tr>\n",
       "    <tr>\n",
       "      <th>4</th>\n",
       "      <td>What is the interest rate for a personal loan?</td>\n",
       "      <td>The current interest rate for personal loans i...</td>\n",
       "      <td>loan inquiry</td>\n",
       "      <td>finance</td>\n",
       "    </tr>\n",
       "  </tbody>\n",
       "</table>\n",
       "</div>"
      ],
      "text/plain": [
       "                                               query  \\\n",
       "0  What are the side effects of the COVID-19 vacc...   \n",
       "1  How can I schedule an appointment with my doctor?   \n",
       "2  What should I do if I miss a dose of my medica...   \n",
       "3                How can I check my account balance?   \n",
       "4     What is the interest rate for a personal loan?   \n",
       "\n",
       "                                            response                intent  \\\n",
       "0  Common side effects of the COVID-19 vaccine in...  side effects inquiry   \n",
       "1  You can schedule an appointment by calling our...   appointment booking   \n",
       "2  If you miss a dose, take it as soon as you rem...    medication inquiry   \n",
       "3  You can check your balance by logging into you...       balance inquiry   \n",
       "4  The current interest rate for personal loans i...          loan inquiry   \n",
       "\n",
       "       domain  \n",
       "0  healthcare  \n",
       "1  healthcare  \n",
       "2  healthcare  \n",
       "3     finance  \n",
       "4     finance  "
      ]
     },
     "execution_count": 3,
     "metadata": {},
     "output_type": "execute_result"
    }
   ],
   "source": [
    "df = pd.read_csv(\"./domain_specific_chatbot_data.csv\")\n",
    "\n",
    "df.head()  # Displays first few rows of dataset"
   ]
  },
  {
   "cell_type": "markdown",
   "metadata": {},
   "source": [
    "Data Preprocessing"
   ]
  },
  {
   "cell_type": "code",
   "execution_count": 4,
   "metadata": {},
   "outputs": [
    {
     "data": {
      "text/plain": [
       "((2400, 4), (600, 4))"
      ]
     },
     "execution_count": 4,
     "metadata": {},
     "output_type": "execute_result"
    }
   ],
   "source": [
    "from sklearn.model_selection import train_test_split\n",
    "\n",
    "# Split the data into training and testing sets\n",
    "train_df, test_df = train_test_split(df, test_size=0.2, random_state=42)\n",
    "\n",
    "train_df.shape, test_df.shape"
   ]
  },
  {
   "cell_type": "code",
   "execution_count": 5,
   "metadata": {},
   "outputs": [],
   "source": [
    "# Reset index to 0\n",
    "train_data = train_df.reset_index(drop=True)\n",
    "test_data = test_df.reset_index(drop=True)"
   ]
  },
  {
   "cell_type": "code",
   "execution_count": 6,
   "metadata": {},
   "outputs": [],
   "source": [
    "# Cleaning datasets\n",
    "import re\n",
    "\n",
    "def clean_text(text):\n",
    "    text = re.sub(r'\\r\\n', ' ', text)  # Removes newlines\n",
    "    text = re.sub(r'\\s', ' ', text)    # Replaces all whitespace with single space\n",
    "    text = re.sub(r'<.*?>', '', text)  # Removes HTML tags\n",
    "    text = text.strip().lower()\n",
    "    return text\n"
   ]
  },
  {
   "cell_type": "code",
   "execution_count": 7,
   "metadata": {},
   "outputs": [],
   "source": [
    "# Apply clean_text function\n",
    "train_data['query'] = train_data['query'].apply(clean_text)\n",
    "train_data['response'] = train_data['response'].apply(clean_text)\n",
    "\n",
    "test_data['query'] = test_data['query'].apply(clean_text)\n",
    "test_data['response'] = test_data['response'].apply(clean_text)\n"
   ]
  },
  {
   "cell_type": "markdown",
   "metadata": {},
   "source": [
    "Tokenization"
   ]
  },
  {
   "cell_type": "code",
   "execution_count": 8,
   "metadata": {},
   "outputs": [
    {
     "name": "stderr",
     "output_type": "stream",
     "text": [
      "You are using the default legacy behaviour of the <class 'transformers.models.t5.tokenization_t5.T5Tokenizer'>. This is expected, and simply means that the `legacy` (previous) behavior will be used so nothing changes for you. If you want to use the new behaviour, set `legacy=False`. This should only be set if you understand what it means, and thoroughly read the reason why this was added as explained in https://github.com/huggingface/transformers/pull/24565\n"
     ]
    }
   ],
   "source": [
    "tokenizer = T5Tokenizer.from_pretrained(\"t5-base\")"
   ]
  },
  {
   "cell_type": "code",
   "execution_count": 9,
   "metadata": {},
   "outputs": [],
   "source": [
    "# Preprocessing function for tokenization\n",
    "def preprocess_function(dataset):\n",
    "    inputs = tokenizer(dataset['query'], padding=\"max_length\", truncation=True, max_length=250)\n",
    "    targets = tokenizer(dataset['response'], padding=\"max_length\", truncation=True, max_length=250)\n",
    "    inputs['labels'] = targets['input_ids']  # Sets the tokenized response text as the labels for training.\n",
    "    return inputs\n",
    "\n",
    "# Apply the preprocessing\n",
    "train_dataset = train_data.apply(preprocess_function, axis= 1)\n",
    "test_dataset = test_data.apply(preprocess_function, axis= 1)"
   ]
  },
  {
   "cell_type": "markdown",
   "metadata": {},
   "source": [
    "Fine Tuning Model"
   ]
  },
  {
   "cell_type": "code",
   "execution_count": null,
   "metadata": {},
   "outputs": [
    {
     "name": "stderr",
     "output_type": "stream",
     "text": [
      "/Users/sujannainawasti/.pyenv/versions/3.9.13/lib/python3.9/site-packages/transformers/training_args.py:1594: FutureWarning: `evaluation_strategy` is deprecated and will be removed in version 4.46 of 🤗 Transformers. Use `eval_strategy` instead\n",
      "  warnings.warn(\n",
      "Passing a tuple of `past_key_values` is deprecated and will be removed in Transformers v4.48.0. You should pass an instance of `EncoderDecoderCache` instead, e.g. `past_key_values=EncoderDecoderCache.from_legacy_cache(past_key_values)`.\n"
     ]
    },
    {
     "data": {
      "text/html": [
       "\n",
       "    <div>\n",
       "      \n",
       "      <progress value='1800' max='1800' style='width:300px; height:20px; vertical-align: middle;'></progress>\n",
       "      [1800/1800 2:28:44, Epoch 6/6]\n",
       "    </div>\n",
       "    <table border=\"1\" class=\"dataframe\">\n",
       "  <thead>\n",
       " <tr style=\"text-align: left;\">\n",
       "      <th>Epoch</th>\n",
       "      <th>Training Loss</th>\n",
       "      <th>Validation Loss</th>\n",
       "    </tr>\n",
       "  </thead>\n",
       "  <tbody>\n",
       "    <tr>\n",
       "      <td>1</td>\n",
       "      <td>0.029300</td>\n",
       "      <td>0.006550</td>\n",
       "    </tr>\n",
       "    <tr>\n",
       "      <td>2</td>\n",
       "      <td>0.001600</td>\n",
       "      <td>0.000035</td>\n",
       "    </tr>\n",
       "    <tr>\n",
       "      <td>3</td>\n",
       "      <td>0.000500</td>\n",
       "      <td>0.000009</td>\n",
       "    </tr>\n",
       "    <tr>\n",
       "      <td>4</td>\n",
       "      <td>0.000400</td>\n",
       "      <td>0.000006</td>\n",
       "    </tr>\n",
       "    <tr>\n",
       "      <td>5</td>\n",
       "      <td>0.000300</td>\n",
       "      <td>0.000004</td>\n",
       "    </tr>\n",
       "    <tr>\n",
       "      <td>6</td>\n",
       "      <td>0.000300</td>\n",
       "      <td>0.000004</td>\n",
       "    </tr>\n",
       "  </tbody>\n",
       "</table><p>"
      ],
      "text/plain": [
       "<IPython.core.display.HTML object>"
      ]
     },
     "metadata": {},
     "output_type": "display_data"
    },
    {
     "data": {
      "text/plain": [
       "TrainOutput(global_step=1800, training_loss=0.6166053186920989, metrics={'train_runtime': 8927.4431, 'train_samples_per_second': 1.613, 'train_steps_per_second': 0.202, 'total_flos': 4281735168000000.0, 'train_loss': 0.6166053186920989, 'epoch': 6.0})"
      ]
     },
     "execution_count": 10,
     "metadata": {},
     "output_type": "execute_result"
    }
   ],
   "source": [
    "model = T5ForConditionalGeneration.from_pretrained(\"t5-base\")\n",
    "model = model.to(device)\n",
    "\n",
    "# Define training arguments\n",
    "training_args = TrainingArguments(\n",
    "    output_dir=\"./results\",\n",
    "    num_train_epochs=6,\n",
    "    per_device_train_batch_size=4,\n",
    "    per_device_eval_batch_size=4,\n",
    "    gradient_accumulation_steps=2,\n",
    "    warmup_steps=500,\n",
    "    weight_decay=0.01,\n",
    "    logging_dir=\"./logs\",\n",
    "    logging_steps=50,\n",
    "    save_steps=500,\n",
    "    eval_steps=50,\n",
    "    evaluation_strategy=\"epoch\"\n",
    ")\n",
    "\n",
    "# Trainer setup\n",
    "trainer = Trainer(\n",
    "    model=model,\n",
    "    args=training_args,\n",
    "    train_dataset=train_dataset,\n",
    "    eval_dataset=test_dataset\n",
    ")\n",
    "\n",
    "# Train the model\n",
    "trainer.train()"
   ]
  },
  {
   "cell_type": "code",
   "execution_count": 17,
   "metadata": {},
   "outputs": [
    {
     "data": {
      "image/png": "[encoded data removed]",
      "text/plain": [
       "<Figure size 640x480 with 1 Axes>"
      ]
     },
     "metadata": {},
     "output_type": "display_data"
    }
   ],
   "source": [
    "import matplotlib.pyplot as plt\n",
    "\n",
    "# Data\n",
    "epochs = [1, 2, 3, 4, 5, 6]\n",
    "training_loss = [0.0293, 0.0016, 0.0005, 0.0004, 0.0003, 0.0003]\n",
    "validation_loss = [0.00655, 0.000035, 0.000009, 0.000006, 0.000004, 0.000004]\n",
    "\n",
    "df = pd.DataFrame({'Epoch': epochs, 'Training Loss': training_loss, 'Validation Loss': validation_loss})\n",
    "df.to_csv(\"training_data.csv\", index=False)\n",
    "\n",
    "plt.plot(epochs, training_loss, marker='o', linestyle='-', color='b', label=\"Training Loss\")\n",
    "plt.plot(epochs, validation_loss, marker='s', linestyle='--', color='r', label=\"Validation Loss\")\n",
    "\n",
    "plt.xlabel(\"Epochs\")\n",
    "plt.ylabel(\"Loss\")\n",
    "plt.title(\"Training and Validation Loss\")\n",
    "plt.legend()\n",
    "\n",
    "plt.show()\n"
   ]
  },
  {
   "cell_type": "markdown",
   "metadata": {},
   "source": [
    "Save and Load Model"
   ]
  },
  {
   "cell_type": "code",
   "execution_count": null,
   "metadata": {},
   "outputs": [],
   "source": [
    "# save model\n",
    "model.save_pretrained(\"./chatbot_model\")\n",
    "tokenizer.save_pretrained(\"./chatbot_model\")\n"
   ]
  },
  {
   "cell_type": "code",
   "execution_count": 12,
   "metadata": {},
   "outputs": [],
   "source": [
    "# load model\n",
    "model = T5ForConditionalGeneration.from_pretrained(\"./chatbot_model\").to(device)\n",
    "tokenizer = T5Tokenizer.from_pretrained(\"./chatbot_model\")"
   ]
  },
  {
   "cell_type": "markdown",
   "metadata": {},
   "source": [
    "Chatbot System"
   ]
  },
  {
   "cell_type": "code",
   "execution_count": 13,
   "metadata": {},
   "outputs": [],
   "source": [
    "def chatbot(query):\n",
    "    query = clean_text(query)\n",
    "    input_ids = tokenizer(query, return_tensors='pt', max_length=250, truncation=True)\n",
    "\n",
    "    inputs = {key: value.to(device) for key, value in input_ids.items() }\n",
    "\n",
    "    outputs = model.generate(\n",
    "        inputs[\"input_ids\"],\n",
    "        max_length=250,\n",
    "        num_beams=5,\n",
    "        early_stopping=True\n",
    "    )\n",
    "\n",
    "    return tokenizer.decode(outputs[0], skip_special_tokens=True)"
   ]
  },
  {
   "cell_type": "code",
   "execution_count": 15,
   "metadata": {},
   "outputs": [],
   "source": [
    "# while True:\n",
    "#     user_input = input(\"You: \")\n",
    "#     if user_input.lower()==\"exit\":\n",
    "#         break\n",
    "#     response = chatbot(user_input)\n",
    "#     print(f\"Chatbot: {response}\")\n"
   ]
  },
  {
   "cell_type": "code",
   "execution_count": null,
   "metadata": {},
   "outputs": [
    {
     "name": "stderr",
     "output_type": "stream",
     "text": [
      "/var/folders/n3/lsbnbfr506q92gbtjsmwsxs80000gn/T/ipykernel_3252/257334810.py:37: DeprecationWarning: on_submit is deprecated. Instead, set the .continuous_update attribute to False and observe the value changing with: mywidget.observe(callback, 'value').\n",
      "  user_input.on_submit(on_input_submit)\n"
     ]
    },
    {
     "data": {
      "application/vnd.jupyter.widget-view+json": {
       "model_id": "5b3afb8410914ba7858dd0408c606674",
       "version_major": 2,
       "version_minor": 0
      },
      "text/plain": [
       "Text(value='', layout=Layout(width='80%'), placeholder='Type your message and press Enter...')"
      ]
     },
     "metadata": {},
     "output_type": "display_data"
    },
    {
     "data": {
      "application/vnd.jupyter.widget-view+json": {
       "model_id": "affc2a1f8467478898a6a47a78848eea",
       "version_major": 2,
       "version_minor": 0
      },
      "text/plain": [
       "Output()"
      ]
     },
     "metadata": {},
     "output_type": "display_data"
    }
   ],
   "source": [
    "import ipywidgets as widgets\n",
    "from IPython.display import display\n",
    "\n",
    "# Create a text input field\n",
    "user_input = widgets.Text(placeholder=\"Type your message and press Enter...\", layout=widgets.Layout(width=\"80%\"))\n",
    "\n",
    "# Create an output area\n",
    "output = widgets.Output()\n",
    "\n",
    "# Function to handle input submission\n",
    "def on_input_submit(sender):\n",
    "    with output:\n",
    "        # Get user input\n",
    "        message = user_input.value.strip()\n",
    "        \n",
    "        # Check if the input is empty\n",
    "        if not message:\n",
    "            return\n",
    "        \n",
    "        # Check if the user wants to exit\n",
    "        if message.lower() == \"exit\":\n",
    "            print(\"Chatbot: Goodbye!\")\n",
    "            user_input.disabled = True  # Disable input field\n",
    "            return\n",
    "        \n",
    "        # Get chatbot response\n",
    "        response = chatbot(message)\n",
    "        \n",
    "        # Display the conversation\n",
    "        print(f\"You: {message}\")\n",
    "        print(f\"Chatbot: {response}\\n\")\n",
    "        \n",
    "        # Clear the input field (after processing)\n",
    "        user_input.value = \"\"\n",
    "\n",
    "# Link function to the \"Enter\" key press\n",
    "user_input.on_submit(on_input_submit)\n",
    "\n",
    "# Display the widgets\n",
    "display(user_input, output)"
   ]
  },
  {
   "cell_type": "code",
   "execution_count": null,
   "metadata": {},
   "outputs": [],
   "source": []
  }
 ],
 "metadata": {
  "kernelspec": {
   "display_name": "3.9.13",
   "language": "python",
   "name": "python3"
  },
  "language_info": {
   "codemirror_mode": {
    "name": "ipython",
    "version": 3
   },
   "file_extension": ".py",
   "mimetype": "text/x-python",
   "name": "python",
   "nbconvert_exporter": "python",
   "pygments_lexer": "ipython3",
   "version": "3.9.13"
  }
 },
 "nbformat": 4,
 "nbformat_minor": 2
}
